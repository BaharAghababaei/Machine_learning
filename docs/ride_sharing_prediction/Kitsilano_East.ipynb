{
 "cells": [
  {
   "cell_type": "code",
   "execution_count": 2,
   "id": "8700d56e",
   "metadata": {},
   "outputs": [],
   "source": [
    "import torch\n",
    "import torch.nn as nn\n",
    "import torch.optim as optim\n",
    "import pandas as pd\n",
    "from torch.utils.data import DataLoader, TensorDataset\n",
    "import numpy as np\n",
    "import matplotlib.pyplot as plt\n",
    "from sklearn.model_selection import train_test_split\n",
    "import optuna\n",
    "import itertools"
   ]
  },
  {
   "cell_type": "markdown",
   "id": "9f9dabfb-9aed-4fad-82f3-bea849afadcd",
   "metadata": {},
   "source": [
    "# Train-Validation_Test Dataset "
   ]
  },
  {
   "cell_type": "code",
   "execution_count": 2,
   "id": "59e5440f",
   "metadata": {},
   "outputs": [
    {
     "name": "stdout",
     "output_type": "stream",
     "text": [
      "               0         1         2         3         4         5         6  \\\n",
      "0      -1.110460 -1.414707 -0.616330  0.009505  0.806753 -0.015931  0.141100   \n",
      "1      -1.766894 -1.395270  0.125064 -1.477380  0.403101 -1.484313 -1.367014   \n",
      "2       0.804565 -0.950317  1.548270  1.050878  0.823302  1.141456  0.542893   \n",
      "3      -1.745985  0.093818 -1.002926 -0.341034  1.206572  0.933075 -0.987583   \n",
      "4       0.817807  0.756915  1.548270  1.050878 -1.730762  1.265214  0.125064   \n",
      "...          ...       ...       ...       ...       ...       ...       ...   \n",
      "891131 -1.435730  1.247003  0.894488 -1.510681 -1.743110  0.482606 -1.651765   \n",
      "891132  1.173395 -0.406251  1.548270  1.050878 -0.696425  1.205677  0.548495   \n",
      "891133  1.206572  0.933075  1.295203 -0.460394  0.829803  1.546222  0.525538   \n",
      "891134 -1.435730  1.247003  0.894488 -1.510681  1.181653 -1.517716  1.319030   \n",
      "891135 -0.332850  0.034456  1.289150 -0.806390  0.062177  1.174639 -0.637324   \n",
      "\n",
      "               7         8  \n",
      "0      -0.394135 -0.368263  \n",
      "1      -0.335976 -0.368263  \n",
      "2       1.080021 -0.368263  \n",
      "3       0.785027 -0.368263  \n",
      "4      -1.477380 -0.368263  \n",
      "...          ...       ...  \n",
      "891131  0.813014 -0.368263  \n",
      "891132  1.471318 -0.368263  \n",
      "891133 -0.038454  1.943023  \n",
      "891134  1.061592 -0.368263  \n",
      "891135 -1.443008 -0.368263  \n",
      "\n",
      "[891136 rows x 9 columns]\n",
      "torch.Size([891136, 1])\n",
      "Train: 534681\n",
      "Valid: 178227\n",
      "Test: 178228\n"
     ]
    }
   ],
   "source": [
    "np.random.seed(1)\n",
    "data = pd.read_csv('C:/Users/bahar/Documents/RA/Machine learning/kitsilano_east_1000.csv')\n",
    "\n",
    "#data = data.drop(['clients_1', 'clients_2'], axis=1)\n",
    "\n",
    "#Normalization\n",
    "from sklearn.preprocessing import StandardScaler\n",
    "\n",
    "scaler = StandardScaler()\n",
    "data = scaler.fit_transform(data)\n",
    "\n",
    "data = pd.DataFrame(data)\n",
    "\n",
    "\n",
    "# Shuffle data\n",
    "data = data.sample(frac=1).reset_index(drop=True)\n",
    "print(data)\n",
    "# Put data in tensor\n",
    "inputs = torch.tensor( data.iloc[:, 0:8].values, dtype=torch.float32)\n",
    "labels = torch.tensor(data.iloc[:, 8].values, dtype=torch.float32).unsqueeze(1)\n",
    "\n",
    "print( labels.shape)\n",
    "\n",
    "# Index training, validation, and test sets\n",
    "n_train = int(0.6*len(data))\n",
    "n_valid = int(0.2*len(data))\n",
    "n_test  = len(data) - n_train - n_valid\n",
    "train_idx = range(n_train)\n",
    "valid_idx = range(n_train, n_train+n_valid)\n",
    "test_idx  = range(n_train+n_valid, len(data))\n",
    "\n",
    "# train, validation, and test sets\n",
    "inputs_train = inputs[train_idx]\n",
    "inputs_valid = inputs[valid_idx]\n",
    "inputs_test  = inputs[test_idx]\n",
    "labels_train = labels[train_idx]\n",
    "labels_valid = labels[valid_idx]\n",
    "labels_test  = labels[test_idx]\n",
    "\n",
    "# TensorFlow \n",
    "train_data = TensorDataset(inputs_train, labels_train)\n",
    "valid_data = TensorDataset(inputs_valid, labels_valid)\n",
    "test_data = TensorDataset(inputs_test, labels_test)\n",
    "\n",
    "print(\"Train:\", len(train_data))\n",
    "print(\"Valid:\", len(valid_data))\n",
    "print(\"Test:\", len(test_data))"
   ]
  },
  {
   "cell_type": "markdown",
   "id": "8a5e594f-ada6-44d8-ba09-7fe829b5732f",
   "metadata": {},
   "source": [
    "# Neural Network Architecture"
   ]
  },
  {
   "cell_type": "code",
   "execution_count": 3,
   "id": "cb3ed8e6",
   "metadata": {},
   "outputs": [],
   "source": [
    "def define_model(trial):\n",
    "    n_layers = trial.suggest_int(\"n_layers\", 5, 20)\n",
    "    layers = []\n",
    "\n",
    "    in_features = 8\n",
    "\n",
    "    for i in range(n_layers):\n",
    "        out_features = trial.suggest_int(\"n_units_l{}\".format(i), 1, 100)\n",
    "        layers.append(nn.Linear(in_features, out_features))\n",
    "        layers.append(nn.ReLU())\n",
    "        \n",
    "        in_features = out_features\n",
    "    layers.append(nn.Linear(in_features, 1))\n",
    "    \n",
    "    return nn.Sequential(*layers)\n",
    "def objective(trial):\n",
    "    \n",
    "    learning_rate = trial.suggest_loguniform('learning_rate', 1e-5, 1e-1)\n",
    "    num_epochs = trial.suggest_int('num_epochs', 30, 100)\n",
    "    batch_size = trial.suggest_categorical('batch_size', [8, 16, 32])\n",
    "    \n",
    "    train_dataloader = DataLoader(train_data, shuffle=True, batch_size=batch_size)\n",
    "    valid_dataloader = DataLoader(valid_data, shuffle=True, batch_size=batch_size)\n",
    "\n",
    "#    model = NeuralNetwork(input_dim, hidden_dim1, output_dim)\n",
    "    model=define_model(trial)\n",
    "    optimizer = optim.Adam(model.parameters(), lr=learning_rate)\n",
    "    criterion = nn.MSELoss()\n",
    "   \n",
    "    for epoch in range(num_epochs):\n",
    "        # Training\n",
    "        train_running_loss = 0\n",
    "        model.train()\n",
    "        for train_inputs, train_label in train_dataloader:\n",
    "            train_output = model(train_inputs)    \n",
    "            train_loss = criterion(train_output, train_label) \n",
    "            optimizer.zero_grad()  \n",
    "            train_loss.backward()\n",
    "            optimizer.step()\n",
    "            train_running_loss += train_loss.item()\n",
    "\n",
    "        # Validation\n",
    "        model.eval() \n",
    "        valid_running_loss = 0.0  \n",
    "        with torch.no_grad():       \n",
    "            for valid_inputs, valid_label in valid_dataloader:\n",
    "                valid_output = model(valid_inputs)\n",
    "                valid_loss = criterion(valid_output, valid_label)\n",
    "                valid_running_loss += valid_loss.item()\n",
    "        valid_loss = valid_running_loss / len(valid_dataloader)\n",
    " \n",
    "        \n",
    "    return valid_loss"
   ]
  },
  {
   "cell_type": "markdown",
   "id": "d99fa9f7-0bd9-4b11-a97a-2abcc3ead597",
   "metadata": {},
   "source": [
    "# Cross Validation"
   ]
  },
  {
   "cell_type": "code",
   "execution_count": 4,
   "id": "096a9c75",
   "metadata": {
    "scrolled": true
   },
   "outputs": [
    {
     "name": "stderr",
     "output_type": "stream",
     "text": [
      "[I 2023-06-12 08:06:46,483] A new study created in memory with name: no-name-3000113e-9223-47d1-aeb7-508bee8bad5e\n",
      "C:\\Users\\moein16\\AppData\\Local\\Temp\\ipykernel_39848\\3286688918.py:20: FutureWarning: suggest_loguniform has been deprecated in v3.0.0. This feature will be removed in v6.0.0. See https://github.com/optuna/optuna/releases/tag/v3.0.0. Use suggest_float(..., log=True) instead.\n",
      "  learning_rate = trial.suggest_loguniform('learning_rate', 1e-5, 1e-1)\n",
      "[I 2023-06-12 09:53:48,112] Trial 0 finished with value: 0.04174423232353046 and parameters: {'learning_rate': 0.001321496898091754, 'num_epochs': 74, 'batch_size': 16, 'n_layers': 8, 'n_units_l0': 20, 'n_units_l1': 21, 'n_units_l2': 66, 'n_units_l3': 83, 'n_units_l4': 31, 'n_units_l5': 21, 'n_units_l6': 47, 'n_units_l7': 37}. Best is trial 0 with value: 0.04174423232353046.\n",
      "[I 2023-06-12 11:36:12,780] Trial 1 finished with value: 0.9988445902881973 and parameters: {'learning_rate': 0.019971387876302267, 'num_epochs': 95, 'batch_size': 32, 'n_layers': 14, 'n_units_l0': 16, 'n_units_l1': 56, 'n_units_l2': 28, 'n_units_l3': 74, 'n_units_l4': 84, 'n_units_l5': 44, 'n_units_l6': 79, 'n_units_l7': 80, 'n_units_l8': 4, 'n_units_l9': 45, 'n_units_l10': 3, 'n_units_l11': 78, 'n_units_l12': 36, 'n_units_l13': 95}. Best is trial 0 with value: 0.04174423232353046.\n",
      "[I 2023-06-12 16:02:28,007] Trial 2 finished with value: 0.6770976469375688 and parameters: {'learning_rate': 0.000175652410530046, 'num_epochs': 64, 'batch_size': 8, 'n_layers': 12, 'n_units_l0': 2, 'n_units_l1': 97, 'n_units_l2': 38, 'n_units_l3': 34, 'n_units_l4': 88, 'n_units_l5': 22, 'n_units_l6': 99, 'n_units_l7': 11, 'n_units_l8': 36, 'n_units_l9': 94, 'n_units_l10': 84, 'n_units_l11': 35}. Best is trial 0 with value: 0.04174423232353046.\n",
      "[I 2023-06-12 19:29:10,949] Trial 3 finished with value: 0.9996201499333501 and parameters: {'learning_rate': 0.014569612923502647, 'num_epochs': 81, 'batch_size': 16, 'n_layers': 15, 'n_units_l0': 37, 'n_units_l1': 62, 'n_units_l2': 24, 'n_units_l3': 5, 'n_units_l4': 70, 'n_units_l5': 59, 'n_units_l6': 41, 'n_units_l7': 22, 'n_units_l8': 80, 'n_units_l9': 22, 'n_units_l10': 63, 'n_units_l11': 81, 'n_units_l12': 9, 'n_units_l13': 65, 'n_units_l14': 57}. Best is trial 0 with value: 0.04174423232353046.\n",
      "[I 2023-06-12 20:24:27,149] Trial 4 finished with value: 1.0026098277433182 and parameters: {'learning_rate': 0.008098111054702279, 'num_epochs': 31, 'batch_size': 16, 'n_layers': 11, 'n_units_l0': 94, 'n_units_l1': 79, 'n_units_l2': 22, 'n_units_l3': 14, 'n_units_l4': 42, 'n_units_l5': 38, 'n_units_l6': 64, 'n_units_l7': 1, 'n_units_l8': 66, 'n_units_l9': 84, 'n_units_l10': 21}. Best is trial 0 with value: 0.04174423232353046.\n",
      "[I 2023-06-12 22:49:25,358] Trial 5 finished with value: 0.02917707943783582 and parameters: {'learning_rate': 9.42810407131086e-05, 'num_epochs': 57, 'batch_size': 16, 'n_layers': 16, 'n_units_l0': 62, 'n_units_l1': 70, 'n_units_l2': 87, 'n_units_l3': 48, 'n_units_l4': 92, 'n_units_l5': 38, 'n_units_l6': 44, 'n_units_l7': 16, 'n_units_l8': 90, 'n_units_l9': 79, 'n_units_l10': 51, 'n_units_l11': 52, 'n_units_l12': 47, 'n_units_l13': 78, 'n_units_l14': 16, 'n_units_l15': 2}. Best is trial 5 with value: 0.02917707943783582.\n",
      "[I 2023-06-13 00:50:11,820] Trial 6 finished with value: 0.045322437132490095 and parameters: {'learning_rate': 3.5421522307186676e-05, 'num_epochs': 59, 'batch_size': 16, 'n_layers': 13, 'n_units_l0': 62, 'n_units_l1': 72, 'n_units_l2': 12, 'n_units_l3': 46, 'n_units_l4': 61, 'n_units_l5': 76, 'n_units_l6': 58, 'n_units_l7': 95, 'n_units_l8': 83, 'n_units_l9': 90, 'n_units_l10': 4, 'n_units_l11': 63, 'n_units_l12': 54}. Best is trial 5 with value: 0.02917707943783582.\n",
      "[I 2023-06-13 02:45:40,851] Trial 7 finished with value: 0.06208763982886657 and parameters: {'learning_rate': 1.8241242555261965e-05, 'num_epochs': 74, 'batch_size': 8, 'n_layers': 5, 'n_units_l0': 40, 'n_units_l1': 27, 'n_units_l2': 82, 'n_units_l3': 2, 'n_units_l4': 10}. Best is trial 5 with value: 0.02917707943783582.\n",
      "[I 2023-06-13 05:14:59,261] Trial 8 finished with value: 0.03759807518027628 and parameters: {'learning_rate': 0.0010896807425504243, 'num_epochs': 35, 'batch_size': 8, 'n_layers': 12, 'n_units_l0': 60, 'n_units_l1': 55, 'n_units_l2': 46, 'n_units_l3': 92, 'n_units_l4': 14, 'n_units_l5': 82, 'n_units_l6': 23, 'n_units_l7': 85, 'n_units_l8': 32, 'n_units_l9': 4, 'n_units_l10': 90, 'n_units_l11': 85}. Best is trial 5 with value: 0.02917707943783582.\n",
      "[I 2023-06-13 12:21:28,642] Trial 9 finished with value: 0.041068206841217605 and parameters: {'learning_rate': 0.00011163779664692568, 'num_epochs': 59, 'batch_size': 8, 'n_layers': 20, 'n_units_l0': 32, 'n_units_l1': 43, 'n_units_l2': 15, 'n_units_l3': 85, 'n_units_l4': 92, 'n_units_l5': 47, 'n_units_l6': 88, 'n_units_l7': 88, 'n_units_l8': 10, 'n_units_l9': 78, 'n_units_l10': 6, 'n_units_l11': 94, 'n_units_l12': 28, 'n_units_l13': 92, 'n_units_l14': 91, 'n_units_l15': 95, 'n_units_l16': 55, 'n_units_l17': 78, 'n_units_l18': 35, 'n_units_l19': 13}. Best is trial 5 with value: 0.02917707943783582.\n",
      "[I 2023-06-13 13:18:05,191] Trial 10 finished with value: 1.0218620818623307 and parameters: {'learning_rate': 0.08953029703053784, 'num_epochs': 46, 'batch_size': 32, 'n_layers': 18, 'n_units_l0': 89, 'n_units_l1': 1, 'n_units_l2': 98, 'n_units_l3': 60, 'n_units_l4': 69, 'n_units_l5': 2, 'n_units_l6': 14, 'n_units_l7': 52, 'n_units_l8': 100, 'n_units_l9': 59, 'n_units_l10': 42, 'n_units_l11': 13, 'n_units_l12': 93, 'n_units_l13': 14, 'n_units_l14': 6, 'n_units_l15': 1, 'n_units_l16': 3, 'n_units_l17': 2}. Best is trial 5 with value: 0.02917707943783582.\n",
      "[I 2023-06-13 15:46:19,976] Trial 11 finished with value: 0.9988835483941272 and parameters: {'learning_rate': 0.0006738260398209777, 'num_epochs': 35, 'batch_size': 8, 'n_layers': 17, 'n_units_l0': 67, 'n_units_l1': 85, 'n_units_l2': 61, 'n_units_l3': 100, 'n_units_l4': 8, 'n_units_l5': 90, 'n_units_l6': 20, 'n_units_l7': 59, 'n_units_l8': 37, 'n_units_l9': 4, 'n_units_l10': 93, 'n_units_l11': 45, 'n_units_l12': 71, 'n_units_l13': 49, 'n_units_l14': 1, 'n_units_l15': 3, 'n_units_l16': 98}. Best is trial 5 with value: 0.02917707943783582.\n",
      "[I 2023-06-13 17:05:29,321] Trial 12 finished with value: 0.031962758322445696 and parameters: {'learning_rate': 0.0005296398230283107, 'num_epochs': 46, 'batch_size': 16, 'n_layers': 10, 'n_units_l0': 68, 'n_units_l1': 43, 'n_units_l2': 47, 'n_units_l3': 32, 'n_units_l4': 28, 'n_units_l5': 71, 'n_units_l6': 30, 'n_units_l7': 72, 'n_units_l8': 47, 'n_units_l9': 56}. Best is trial 5 with value: 0.02917707943783582.\n",
      "[I 2023-06-13 18:13:32,780] Trial 13 finished with value: 0.033509945936520645 and parameters: {'learning_rate': 0.00014409735120654235, 'num_epochs': 47, 'batch_size': 16, 'n_layers': 9, 'n_units_l0': 81, 'n_units_l1': 39, 'n_units_l2': 77, 'n_units_l3': 29, 'n_units_l4': 30, 'n_units_l5': 66, 'n_units_l6': 34, 'n_units_l7': 68, 'n_units_l8': 52}. Best is trial 5 with value: 0.02917707943783582.\n",
      "[I 2023-06-13 19:56:03,393] Trial 14 finished with value: 0.06899144243406531 and parameters: {'learning_rate': 1.3032778969996732e-05, 'num_epochs': 47, 'batch_size': 16, 'n_layers': 16, 'n_units_l0': 75, 'n_units_l1': 67, 'n_units_l2': 1, 'n_units_l3': 55, 'n_units_l4': 51, 'n_units_l5': 98, 'n_units_l6': 2, 'n_units_l7': 35, 'n_units_l8': 60, 'n_units_l9': 61, 'n_units_l10': 50, 'n_units_l11': 21, 'n_units_l12': 62, 'n_units_l13': 62, 'n_units_l14': 34, 'n_units_l15': 49}. Best is trial 5 with value: 0.02917707943783582.\n",
      "[I 2023-06-13 21:24:27,070] Trial 15 finished with value: 0.02956356403178345 and parameters: {'learning_rate': 0.00038967574880003486, 'num_epochs': 53, 'batch_size': 16, 'n_layers': 9, 'n_units_l0': 50, 'n_units_l1': 32, 'n_units_l2': 95, 'n_units_l3': 31, 'n_units_l4': 100, 'n_units_l5': 31, 'n_units_l6': 33, 'n_units_l7': 71, 'n_units_l8': 100}. Best is trial 5 with value: 0.02917707943783582.\n",
      "[I 2023-06-13 22:18:48,414] Trial 16 finished with value: 0.058648642161372055 and parameters: {'learning_rate': 5.0110360769749544e-05, 'num_epochs': 54, 'batch_size': 16, 'n_layers': 6, 'n_units_l0': 51, 'n_units_l1': 15, 'n_units_l2': 100, 'n_units_l3': 45, 'n_units_l4': 98, 'n_units_l5': 28}. Best is trial 5 with value: 0.02917707943783582.\n"
     ]
    },
    {
     "name": "stderr",
     "output_type": "stream",
     "text": [
      "[I 2023-06-13 23:10:25,876] Trial 17 finished with value: 0.029508084452322978 and parameters: {'learning_rate': 0.00027280929900472283, 'num_epochs': 73, 'batch_size': 32, 'n_layers': 8, 'n_units_l0': 47, 'n_units_l1': 34, 'n_units_l2': 86, 'n_units_l3': 67, 'n_units_l4': 79, 'n_units_l5': 6, 'n_units_l6': 65, 'n_units_l7': 37}. Best is trial 5 with value: 0.02917707943783582.\n",
      "[I 2023-06-14 01:12:49,820] Trial 18 finished with value: 0.9988651014744059 and parameters: {'learning_rate': 5.566892975368547e-05, 'num_epochs': 87, 'batch_size': 32, 'n_layers': 19, 'n_units_l0': 49, 'n_units_l1': 98, 'n_units_l2': 84, 'n_units_l3': 67, 'n_units_l4': 81, 'n_units_l5': 4, 'n_units_l6': 70, 'n_units_l7': 33, 'n_units_l8': 81, 'n_units_l9': 38, 'n_units_l10': 67, 'n_units_l11': 58, 'n_units_l12': 84, 'n_units_l13': 34, 'n_units_l14': 37, 'n_units_l15': 40, 'n_units_l16': 1, 'n_units_l17': 99, 'n_units_l18': 99}. Best is trial 5 with value: 0.02917707943783582.\n",
      "[I 2023-06-14 01:57:14,265] Trial 19 finished with value: 0.04798885321622529 and parameters: {'learning_rate': 0.00024996019601374123, 'num_epochs': 71, 'batch_size': 32, 'n_layers': 7, 'n_units_l0': 27, 'n_units_l1': 10, 'n_units_l2': 67, 'n_units_l3': 70, 'n_units_l4': 75, 'n_units_l5': 13, 'n_units_l6': 53}. Best is trial 5 with value: 0.02917707943783582.\n",
      "[I 2023-06-14 04:15:11,103] Trial 20 finished with value: 0.03805425606721918 and parameters: {'learning_rate': 0.0027031498844887966, 'num_epochs': 83, 'batch_size': 32, 'n_layers': 15, 'n_units_l0': 80, 'n_units_l1': 83, 'n_units_l2': 88, 'n_units_l3': 61, 'n_units_l4': 59, 'n_units_l5': 57, 'n_units_l6': 73, 'n_units_l7': 21, 'n_units_l8': 68, 'n_units_l9': 70, 'n_units_l10': 31, 'n_units_l11': 34, 'n_units_l12': 35, 'n_units_l13': 75, 'n_units_l14': 62}. Best is trial 5 with value: 0.02917707943783582.\n",
      "[I 2023-06-14 05:02:17,517] Trial 21 finished with value: 0.03107660288548737 and parameters: {'learning_rate': 0.0003864561296243564, 'num_epochs': 56, 'batch_size': 32, 'n_layers': 9, 'n_units_l0': 52, 'n_units_l1': 34, 'n_units_l2': 93, 'n_units_l3': 23, 'n_units_l4': 97, 'n_units_l5': 34, 'n_units_l6': 42, 'n_units_l7': 46, 'n_units_l8': 99}. Best is trial 5 with value: 0.02917707943783582.\n",
      "[I 2023-06-14 06:16:21,232] Trial 22 finished with value: 0.03421663698890651 and parameters: {'learning_rate': 0.00010071410848992719, 'num_epochs': 67, 'batch_size': 16, 'n_layers': 7, 'n_units_l0': 43, 'n_units_l1': 30, 'n_units_l2': 72, 'n_units_l3': 41, 'n_units_l4': 100, 'n_units_l5': 14, 'n_units_l6': 57}. Best is trial 5 with value: 0.02917707943783582.\n",
      "[I 2023-06-14 08:07:37,698] Trial 23 finished with value: 0.029532536537885217 and parameters: {'learning_rate': 0.00023164580071384378, 'num_epochs': 64, 'batch_size': 16, 'n_layers': 10, 'n_units_l0': 58, 'n_units_l1': 46, 'n_units_l2': 89, 'n_units_l3': 18, 'n_units_l4': 78, 'n_units_l5': 35, 'n_units_l6': 35, 'n_units_l7': 16, 'n_units_l8': 91, 'n_units_l9': 100}. Best is trial 5 with value: 0.02917707943783582.\n",
      "[I 2023-06-14 09:17:21,473] Trial 24 finished with value: 0.029610563529383318 and parameters: {'learning_rate': 0.00021487455200692695, 'num_epochs': 66, 'batch_size': 32, 'n_layers': 11, 'n_units_l0': 57, 'n_units_l1': 50, 'n_units_l2': 56, 'n_units_l3': 17, 'n_units_l4': 77, 'n_units_l5': 43, 'n_units_l6': 47, 'n_units_l7': 16, 'n_units_l8': 88, 'n_units_l9': 95, 'n_units_l10': 73}. Best is trial 5 with value: 0.02917707943783582.\n",
      "[I 2023-06-14 12:35:20,482] Trial 25 finished with value: 0.029087652287301514 and parameters: {'learning_rate': 7.107689925997041e-05, 'num_epochs': 100, 'batch_size': 16, 'n_layers': 13, 'n_units_l0': 70, 'n_units_l1': 51, 'n_units_l2': 77, 'n_units_l3': 53, 'n_units_l4': 89, 'n_units_l5': 52, 'n_units_l6': 64, 'n_units_l7': 4, 'n_units_l8': 72, 'n_units_l9': 75, 'n_units_l10': 31, 'n_units_l11': 61, 'n_units_l12': 5}. Best is trial 25 with value: 0.029087652287301514.\n",
      "[I 2023-06-14 14:48:21,086] Trial 26 finished with value: 0.998863126392371 and parameters: {'learning_rate': 2.3437511630388808e-05, 'num_epochs': 95, 'batch_size': 32, 'n_layers': 14, 'n_units_l0': 75, 'n_units_l1': 62, 'n_units_l2': 77, 'n_units_l3': 51, 'n_units_l4': 89, 'n_units_l5': 56, 'n_units_l6': 64, 'n_units_l7': 2, 'n_units_l8': 72, 'n_units_l9': 71, 'n_units_l10': 34, 'n_units_l11': 66, 'n_units_l12': 2, 'n_units_l13': 1}. Best is trial 25 with value: 0.029087652287301514.\n",
      "[I 2023-06-14 19:05:31,821] Trial 27 finished with value: 0.02421481116112155 and parameters: {'learning_rate': 7.442779192401252e-05, 'num_epochs': 98, 'batch_size': 16, 'n_layers': 17, 'n_units_l0': 71, 'n_units_l1': 74, 'n_units_l2': 78, 'n_units_l3': 77, 'n_units_l4': 63, 'n_units_l5': 64, 'n_units_l6': 82, 'n_units_l7': 25, 'n_units_l8': 57, 'n_units_l9': 74, 'n_units_l10': 52, 'n_units_l11': 47, 'n_units_l12': 19, 'n_units_l13': 41, 'n_units_l14': 23, 'n_units_l15': 26, 'n_units_l16': 91}. Best is trial 27 with value: 0.02421481116112155.\n",
      "[I 2023-06-14 23:03:40,424] Trial 28 finished with value: 0.040678470960217754 and parameters: {'learning_rate': 1.2038518051471378e-05, 'num_epochs': 100, 'batch_size': 16, 'n_layers': 17, 'n_units_l0': 100, 'n_units_l1': 76, 'n_units_l2': 73, 'n_units_l3': 55, 'n_units_l4': 55, 'n_units_l5': 64, 'n_units_l6': 83, 'n_units_l7': 27, 'n_units_l8': 55, 'n_units_l9': 76, 'n_units_l10': 53, 'n_units_l11': 49, 'n_units_l12': 15, 'n_units_l13': 36, 'n_units_l14': 24, 'n_units_l15': 24, 'n_units_l16': 100}. Best is trial 27 with value: 0.02421481116112155.\n",
      "[I 2023-06-15 02:31:53,981] Trial 29 finished with value: 0.02564134522224392 and parameters: {'learning_rate': 6.927884130139664e-05, 'num_epochs': 90, 'batch_size': 16, 'n_layers': 16, 'n_units_l0': 70, 'n_units_l1': 91, 'n_units_l2': 61, 'n_units_l3': 79, 'n_units_l4': 44, 'n_units_l5': 52, 'n_units_l6': 93, 'n_units_l7': 9, 'n_units_l8': 74, 'n_units_l9': 67, 'n_units_l10': 24, 'n_units_l11': 40, 'n_units_l12': 21, 'n_units_l13': 37, 'n_units_l14': 19, 'n_units_l15': 20}. Best is trial 27 with value: 0.02421481116112155.\n"
     ]
    },
    {
     "name": "stdout",
     "output_type": "stream",
     "text": [
      "Best trial:  {'learning_rate': 7.442779192401252e-05, 'num_epochs': 98, 'batch_size': 16, 'n_layers': 17, 'n_units_l0': 71, 'n_units_l1': 74, 'n_units_l2': 78, 'n_units_l3': 77, 'n_units_l4': 63, 'n_units_l5': 64, 'n_units_l6': 82, 'n_units_l7': 25, 'n_units_l8': 57, 'n_units_l9': 74, 'n_units_l10': 52, 'n_units_l11': 47, 'n_units_l12': 19, 'n_units_l13': 41, 'n_units_l14': 23, 'n_units_l15': 26, 'n_units_l16': 91}\n",
      "Best trial value:  0.02421481116112155\n"
     ]
    }
   ],
   "source": [
    "study = optuna.create_study(direction=\"minimize\", sampler=optuna.samplers.TPESampler())\n",
    "                        \n",
    "\n",
    "study.optimize(objective, n_trials=30)    \n",
    "    \n",
    "best_trial = study.best_trial\n",
    "print('Best trial: ', best_trial.params)\n",
    "print('Best trial value: ', best_trial.value)"
   ]
  },
  {
   "cell_type": "markdown",
   "id": "2cd06b4d-60a8-4e66-947c-8cf36c7e85fa",
   "metadata": {},
   "source": [
    "# Re-training"
   ]
  },
  {
   "cell_type": "code",
   "execution_count": 5,
   "id": "c47970d9",
   "metadata": {
    "scrolled": true
   },
   "outputs": [
    {
     "name": "stdout",
     "output_type": "stream",
     "text": [
      "Epoch [1/98], Loss: 0.2140\n",
      "Epoch [2/98], Loss: 0.1244\n",
      "Epoch [3/98], Loss: 0.0993\n",
      "Epoch [4/98], Loss: 0.0859\n",
      "Epoch [5/98], Loss: 0.0765\n",
      "Epoch [6/98], Loss: 0.0696\n",
      "Epoch [7/98], Loss: 0.0643\n",
      "Epoch [8/98], Loss: 0.0603\n",
      "Epoch [9/98], Loss: 0.0576\n",
      "Epoch [10/98], Loss: 0.0547\n",
      "Epoch [11/98], Loss: 0.0523\n",
      "Epoch [12/98], Loss: 0.0504\n",
      "Epoch [13/98], Loss: 0.0486\n",
      "Epoch [14/98], Loss: 0.0469\n",
      "Epoch [15/98], Loss: 0.0455\n",
      "Epoch [16/98], Loss: 0.0440\n",
      "Epoch [17/98], Loss: 0.0427\n",
      "Epoch [18/98], Loss: 0.0416\n",
      "Epoch [19/98], Loss: 0.0407\n",
      "Epoch [20/98], Loss: 0.0397\n",
      "Epoch [21/98], Loss: 0.0389\n",
      "Epoch [22/98], Loss: 0.0380\n",
      "Epoch [23/98], Loss: 0.0372\n",
      "Epoch [24/98], Loss: 0.0364\n",
      "Epoch [25/98], Loss: 0.0355\n",
      "Epoch [26/98], Loss: 0.0350\n",
      "Epoch [27/98], Loss: 0.0343\n",
      "Epoch [28/98], Loss: 0.0336\n",
      "Epoch [29/98], Loss: 0.0330\n",
      "Epoch [30/98], Loss: 0.0325\n",
      "Epoch [31/98], Loss: 0.0318\n",
      "Epoch [32/98], Loss: 0.0313\n",
      "Epoch [33/98], Loss: 0.0307\n",
      "Epoch [34/98], Loss: 0.0306\n",
      "Epoch [35/98], Loss: 0.0297\n",
      "Epoch [36/98], Loss: 0.0296\n",
      "Epoch [37/98], Loss: 0.0290\n",
      "Epoch [38/98], Loss: 0.0288\n",
      "Epoch [39/98], Loss: 0.0283\n",
      "Epoch [40/98], Loss: 0.0280\n",
      "Epoch [41/98], Loss: 0.0275\n",
      "Epoch [42/98], Loss: 0.0273\n",
      "Epoch [43/98], Loss: 0.0269\n",
      "Epoch [44/98], Loss: 0.0265\n",
      "Epoch [45/98], Loss: 0.0262\n",
      "Epoch [46/98], Loss: 0.0261\n",
      "Epoch [47/98], Loss: 0.0257\n",
      "Epoch [48/98], Loss: 0.0255\n",
      "Epoch [49/98], Loss: 0.0252\n",
      "Epoch [50/98], Loss: 0.0250\n",
      "Epoch [51/98], Loss: 0.0247\n",
      "Epoch [52/98], Loss: 0.0246\n",
      "Epoch [53/98], Loss: 0.0242\n",
      "Epoch [54/98], Loss: 0.0241\n",
      "Epoch [55/98], Loss: 0.0238\n",
      "Epoch [56/98], Loss: 0.0236\n",
      "Epoch [57/98], Loss: 0.0236\n",
      "Epoch [58/98], Loss: 0.0232\n",
      "Epoch [59/98], Loss: 0.0230\n",
      "Epoch [60/98], Loss: 0.0229\n",
      "Epoch [61/98], Loss: 0.0227\n",
      "Epoch [62/98], Loss: 0.0225\n",
      "Epoch [63/98], Loss: 0.0224\n",
      "Epoch [64/98], Loss: 0.0222\n",
      "Epoch [65/98], Loss: 0.0218\n",
      "Epoch [66/98], Loss: 0.0218\n",
      "Epoch [67/98], Loss: 0.0217\n",
      "Epoch [68/98], Loss: 0.0214\n",
      "Epoch [69/98], Loss: 0.0214\n",
      "Epoch [70/98], Loss: 0.0212\n",
      "Epoch [71/98], Loss: 0.0210\n",
      "Epoch [72/98], Loss: 0.0210\n",
      "Epoch [73/98], Loss: 0.0207\n",
      "Epoch [74/98], Loss: 0.0206\n",
      "Epoch [75/98], Loss: 0.0204\n",
      "Epoch [76/98], Loss: 0.0205\n",
      "Epoch [77/98], Loss: 0.0203\n",
      "Epoch [78/98], Loss: 0.0201\n",
      "Epoch [79/98], Loss: 0.0201\n",
      "Epoch [80/98], Loss: 0.0199\n",
      "Epoch [81/98], Loss: 0.0198\n",
      "Epoch [82/98], Loss: 0.0195\n",
      "Epoch [83/98], Loss: 0.0194\n",
      "Epoch [84/98], Loss: 0.0194\n",
      "Epoch [85/98], Loss: 0.0194\n",
      "Epoch [86/98], Loss: 0.0191\n",
      "Epoch [87/98], Loss: 0.0190\n",
      "Epoch [88/98], Loss: 0.0188\n",
      "Epoch [89/98], Loss: 0.0190\n",
      "Epoch [90/98], Loss: 0.0186\n",
      "Epoch [91/98], Loss: 0.0187\n",
      "Epoch [92/98], Loss: 0.0184\n",
      "Epoch [93/98], Loss: 0.0185\n",
      "Epoch [94/98], Loss: 0.0184\n",
      "Epoch [95/98], Loss: 0.0182\n",
      "Epoch [96/98], Loss: 0.0180\n",
      "Epoch [97/98], Loss: 0.0182\n",
      "Epoch [98/98], Loss: 0.0180\n"
     ]
    }
   ],
   "source": [
    "# Optimal hyperparameters\n",
    "best_trial = study.best_trial\n",
    "learning_rate = best_trial.params['learning_rate']\n",
    "batch_size = best_trial.params['batch_size']\n",
    "num_epochs = best_trial.params['num_epochs']\n",
    "\n",
    "# Instance of the neural network\n",
    "model = define_model(best_trial)\n",
    "criterion = nn.MSELoss()\n",
    "optimizer = optim.Adam(model.parameters(), lr=learning_rate)\n",
    "\n",
    "# Retrain\n",
    "train_dataloader = DataLoader(train_data, shuffle=True, batch_size=batch_size)\n",
    "loss_values = []\n",
    "for epoch in range(num_epochs):\n",
    "    running_loss = 0.0\n",
    "    for i, data in enumerate(train_dataloader):\n",
    "        inputs, label = data\n",
    "        optimizer.zero_grad()    \n",
    "        predictions = model(inputs)    \n",
    "        loss = criterion(predictions, label)  \n",
    "        loss.backward()\n",
    "        optimizer.step()\n",
    "\n",
    "        running_loss += loss.item()\n",
    "    avg_loss = running_loss / len(train_dataloader)\n",
    "    loss_values.append(avg_loss)\n",
    "    #if epoch % 10 == 0:\n",
    "    print('Epoch [{}/{}], Loss: {:.4f}'.format(epoch+1, num_epochs, avg_loss))"
   ]
  },
  {
   "cell_type": "markdown",
   "id": "32645d3c-1de7-4aa2-878f-0f3636af9824",
   "metadata": {},
   "source": [
    "# Evaluation on Test Set"
   ]
  },
  {
   "cell_type": "code",
   "execution_count": 30,
   "id": "066b156f",
   "metadata": {},
   "outputs": [
    {
     "name": "stdout",
     "output_type": "stream",
     "text": [
      "0.02403222986241199\n"
     ]
    }
   ],
   "source": [
    "test_dataloader = DataLoader(dataset=test_data, batch_size=5,shuffle=True)\n",
    "model.state_dict()\n",
    "model.eval() \n",
    "\n",
    "test_running_loss = 0.0  \n",
    "with torch.no_grad():       \n",
    "    for test_inputs, test_label in test_dataloader:\n",
    "        test_output = model(test_inputs)\n",
    "        test_loss= criterion(test_output, test_label)\n",
    "        test_running_loss += test_loss.item()\n",
    "    test_loss = test_running_loss / len(test_dataloader)\n",
    "        \n",
    "print(test_loss)"
   ]
  },
  {
   "cell_type": "markdown",
   "id": "66d8c9a8-3b3b-491d-89b2-5f73d03ad10c",
   "metadata": {},
   "source": [
    "# Prediction Error Visualization"
   ]
  },
  {
   "cell_type": "code",
   "execution_count": 9,
   "id": "f90596be",
   "metadata": {},
   "outputs": [
    {
     "data": {
      "image/png": "[encoded data removed]",
      "text/plain": [
       "<Figure size 720x360 with 4 Axes>"
      ]
     },
     "metadata": {
      "needs_background": "light"
     },
     "output_type": "display_data"
    }
   ],
   "source": [
    "import matplotlib.cm as cm\n",
    "model.eval()\n",
    "\n",
    "test_dataloader = DataLoader(dataset=test_data, batch_size=1)\n",
    "\n",
    "prediction_errors = []\n",
    "with torch.no_grad():\n",
    "\n",
    "    for inputs, labels in test_dataloader:\n",
    "        inputs = inputs.float()\n",
    "\n",
    "        # prediction\n",
    "        predicted_value = model(inputs)\n",
    "        error = predicted_value - labels.item()\n",
    "        prediction_errors.append(error)\n",
    "\n",
    "#Passenger Coordinates \n",
    "Origin_A = []\n",
    "Destination_A = []\n",
    "Origin_B = []\n",
    "Destination_B = []\n",
    "\n",
    "for inputs, labels in test_dataloader:\n",
    " \n",
    "    origin_A_subset = inputs[:, :2]\n",
    "    destination_A_subset = inputs[:, 2:4]\n",
    "    origin_B_subset = inputs[:, 4:6]\n",
    "    destination_B_subset = inputs[:, 6:8]\n",
    "\n",
    "    Origin_A.append(origin_A_subset)\n",
    "    Destination_A.append(destination_A_subset)\n",
    "    Origin_B.append(origin_B_subset)\n",
    "    Destination_B.append(destination_B_subset)\n",
    "    \n",
    "prediction_errors=torch.cat(prediction_errors)\n",
    "Origin_A = torch.cat(Origin_A)\n",
    "Destination_A = torch.cat(Destination_A)\n",
    "Origin_B = torch.cat(Origin_B)\n",
    "Destination_B = torch.cat(Destination_B)\n",
    "\n",
    "data_origin_A = pd.DataFrame(data=Origin_A.numpy(), columns=['coordinate_X', 'coordinate_Y'])\n",
    "data_destination_A = pd.DataFrame(data=Destination_A.numpy(), columns=['coordinate_X', 'coordinate_Y'])\n",
    "data_origin_A['Prediction_Error'] = abs(prediction_errors)\n",
    "data_destination_A['Prediction_Error'] = abs(prediction_errors)\n",
    "\n",
    "data_origin_B = pd.DataFrame(data=Origin_B.numpy(), columns=['coordinate_X', 'coordinate_Y'])\n",
    "data_destination_B = pd.DataFrame(data=Destination_B.numpy(), columns=['coordinate_X', 'coordinate_Y'])\n",
    "data_origin_B['Prediction_Error'] = abs(prediction_errors)\n",
    "data_destination_B['Prediction_Error'] = abs(prediction_errors)\n",
    "\n",
    "\n",
    "fig, axes = plt.subplots(2, 2, figsize=(10, 5))\n",
    "cmap_originA = cm.get_cmap('Reds')\n",
    "# Scatter plot for Origin\n",
    "\n",
    "axes[0,0].scatter(data_origin_A['coordinate_X'], data_origin_A['coordinate_Y'], c=data_origin_A['Prediction_Error'],cmap=cmap_originA)\n",
    "axes[0,0].set_xlabel('coordinate X')\n",
    "axes[0,0].set_ylabel('coordinate Y')\n",
    "axes[0,0].set_title('Scatter Plot - Origin A')\n",
    "\n",
    "\n",
    "# Scatter plot for Destination\n",
    "\n",
    "axes[0,1].scatter(data_destination_A['coordinate_X'], data_destination_A['coordinate_Y'],c=data_destination_A['Prediction_Error'] ,cmap=cmap_originA)\n",
    "axes[0,1].set_xlabel('Destination X')\n",
    "axes[0,1].set_ylabel('Destination Y')\n",
    "axes[0,1].set_title('Scatter Plot - Destination A')\n",
    "\n",
    "\n",
    "axes[1,0].scatter(data_origin_B['coordinate_X'], data_origin_B['coordinate_Y'],c=data_origin_B['Prediction_Error'] ,cmap=cmap_originA)\n",
    "axes[1,0].set_xlabel('coordinate X')\n",
    "axes[1,0].set_ylabel('coordinate Y')\n",
    "axes[1,0].set_title('Scatter Plot - Origin B')\n",
    "\n",
    "#marker_size_destinationB = [100 * err for err in data_destination_B['Prediction_Error']]\n",
    "axes[1,1].scatter(data_destination_B['coordinate_X'], data_destination_B['coordinate_Y'], c=data_destination_B['Prediction_Error'] ,cmap=cmap_originA)\n",
    "axes[1,1].set_xlabel('Destination X')\n",
    "axes[1,1].set_ylabel('Destination Y')\n",
    "axes[1,1].set_title('Scatter Plot - Destination B')\n",
    "\n",
    "\n",
    "plt.tight_layout()\n",
    "\n",
    "\n",
    "plt.show()\n"
   ]
  },
  {
   "cell_type": "code",
   "execution_count": 10,
   "id": "d15046eb",
   "metadata": {},
   "outputs": [
    {
     "name": "stdout",
     "output_type": "stream",
     "text": [
      "[-0.36826304  0.75415039  2.3713119  ...  1.94302249 -0.36826304\n",
      " -0.36826304]\n"
     ]
    },
    {
     "data": {
      "image/png": "[encoded data removed]",
      "text/plain": [
       "<Figure size 432x288 with 1 Axes>"
      ]
     },
     "metadata": {
      "needs_background": "light"
     },
     "output_type": "display_data"
    }
   ],
   "source": [
    "model.eval()\n",
    "\n",
    "test_dataloader = DataLoader(dataset=test_data, batch_size=1)\n",
    "\n",
    "actual_labels = []\n",
    "prediction_values = []\n",
    "\n",
    "with torch.no_grad():\n",
    "    for inputs, labels in test_dataloader:\n",
    "        inputs = inputs.float()\n",
    "        actual_labels.append(labels.item())\n",
    "\n",
    "        # Perform prediction\n",
    "        predicted_value = model(inputs)\n",
    "        prediction_values.append(predicted_value.item())\n",
    "\n",
    "actual_labels = np.array(actual_labels)\n",
    "print(actual_labels)\n",
    "prediction_values = np.array(prediction_values)\n",
    "\n",
    "prediction_errors = prediction_values - actual_labels\n",
    "\n",
    "bin=[0.25,0.5, 0.75, 0.9, 1, 1.2,1.8]\n",
    "plt.hist(prediction_errors, bins=30, edgecolor='black')\n",
    "plt.xlabel('Prediction Errors')\n",
    "plt.ylabel('Frequency')\n",
    "plt.title('Histogram of Prediction Errors')\n",
    "plt.show()"
   ]
  },
  {
   "cell_type": "code",
   "execution_count": 14,
   "id": "013c3893",
   "metadata": {
    "scrolled": true
   },
   "outputs": [
    {
     "name": "stdout",
     "output_type": "stream",
     "text": [
      "4258\n"
     ]
    },
    {
     "data": {
      "image/png": "[encoded data removed]",
      "text/plain": [
       "<Figure size 432x288 with 1 Axes>"
      ]
     },
     "metadata": {
      "needs_background": "light"
     },
     "output_type": "display_data"
    },
    {
     "name": "stdout",
     "output_type": "stream",
     "text": [
      "4258\n"
     ]
    },
    {
     "data": {
      "image/png": "[encoded data removed]",
      "text/plain": [
       "<Figure size 432x288 with 1 Axes>"
      ]
     },
     "metadata": {
      "needs_background": "light"
     },
     "output_type": "display_data"
    }
   ],
   "source": [
    "\n",
    "model.eval()\n",
    "\n",
    "test_dataloader = DataLoader(dataset=test_data, batch_size=1)\n",
    "\n",
    "\n",
    "actual_labels = []\n",
    "prediction_values = []\n",
    "\n",
    "with torch.no_grad():\n",
    "    for inputs, labels in test_dataloader:\n",
    "        inputs = inputs.float()\n",
    "        actual_labels.append(labels.item())\n",
    "\n",
    "        # Perform prediction\n",
    "        predicted_value = model(inputs)\n",
    "        prediction_values.append(predicted_value.item())\n",
    "\n",
    "actual_labels = np.array(actual_labels)\n",
    "#print(actual_labels)\n",
    "prediction_values = np.array(prediction_values)\n",
    "\n",
    "prediction_errors = prediction_values - actual_labels\n",
    "#print(min(prediction_errors))\n",
    "\n",
    "labels_with_high_errors = actual_labels[(prediction_errors > .5)| (prediction_errors < -.5)]\n",
    "    #prediction_errors > 1]\n",
    "labels_with_high_errors=(labels_with_high_errors*13.54224694)+4.987109038\n",
    "print(len(labels_with_high_errors))\n",
    "\n",
    "plt.hist(labels_with_high_errors, bins=20, edgecolor='black')\n",
    "plt.xlabel('Prediction Errors')\n",
    "plt.ylabel('Frequency')\n",
    "plt.title('Histogram of the worst Prediction Errors')\n",
    "plt.show()\n",
    "\n",
    "labels_with_low_errors = actual_labels[(prediction_errors < 0.5)| (prediction_errors > -0.5)]\n",
    "    #prediction_errors > 1]\n",
    "labels_with_low_errors=(labels_with_high_errors*13.54224694)+4.987109038\n",
    "\n",
    "print(len(labels_with_low_errors))\n",
    "\n",
    "plt.hist(labels_with_low_errors, bins=30, edgecolor='black')\n",
    "plt.xlabel('Prediction Errors')\n",
    "plt.ylabel('Frequency')\n",
    "plt.title('Histogram of the best Prediction Errors')\n",
    "plt.show()"
   ]
  },
  {
   "cell_type": "code",
   "execution_count": null,
   "id": "558b5d70",
   "metadata": {},
   "outputs": [],
   "source": []
  }
 ],
 "metadata": {
  "kernelspec": {
   "display_name": "Python [conda env:base] *",
   "language": "python",
   "name": "conda-base-py"
  },
  "language_info": {
   "codemirror_mode": {
    "name": "ipython",
    "version": 3
   },
   "file_extension": ".py",
   "mimetype": "text/x-python",
   "name": "python",
   "nbconvert_exporter": "python",
   "pygments_lexer": "ipython3",
   "version": "3.12.7"
  }
 },
 "nbformat": 4,
 "nbformat_minor": 5
}
