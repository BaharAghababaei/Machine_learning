{
 "cells": [
  {
   "cell_type": "markdown",
   "id": "748f6cb5-ec7a-4c40-975a-185c8ae733f2",
   "metadata": {},
   "source": [
    "# Connect to your workspace"
   ]
  },
  {
   "cell_type": "code",
   "execution_count": 1,
   "id": "66e7473e-9b27-4b06-add3-82bedd93ad39",
   "metadata": {},
   "outputs": [],
   "source": [
    "from azure.ai.ml import MLClient\n",
    "from azure.identity import DefaultAzureCredential\n",
    "subscription_id = \"78a604aa-17cd-47e5-bc3b-097c9395aa3f\"\n",
    "\n",
    "\n",
    "resource_group = \"demo\"\n",
    "workspace=\"mlw-dp100-labs\"\n",
    "ml_client = MLClient(\n",
    "    DefaultAzureCredential(), subscription_id, resource_group,workspace\n",
    ")\n",
    "\n"
   ]
  },
  {
   "cell_type": "markdown",
   "id": "3f9b117c-3fcf-43ec-bb09-5d06ffb54dba",
   "metadata": {},
   "source": [
    "# Create the scripts"
   ]
  },
  {
   "cell_type": "code",
   "execution_count": 3,
   "id": "975cddcd-066c-4379-90ce-422358ec6de3",
   "metadata": {},
   "outputs": [
    {
     "name": "stdout",
     "output_type": "stream",
     "text": [
      "src folder created\n"
     ]
    }
   ],
   "source": [
    "import os\n",
    "\n",
    "script_folder = 'src'\n",
    "os.makedirs(script_folder, exist_ok=True)\n",
    "print(script_folder, 'folder created')"
   ]
  },
  {
   "cell_type": "code",
   "execution_count": 5,
   "id": "78a098e3-7e11-4f37-b4bb-102612c1d69c",
   "metadata": {},
   "outputs": [
    {
     "name": "stdout",
     "output_type": "stream",
     "text": [
      "Overwriting src/prep-data.py\n"
     ]
    }
   ],
   "source": [
    "%%writefile $script_folder/prep-data.py\n",
    "# import libraries\n",
    "import argparse\n",
    "import pandas as pd\n",
    "import numpy as np\n",
    "from pathlib import Path\n",
    "from sklearn.model_selection import train_test_split\n",
    "from sklearn.preprocessing import StandardScaler\n",
    "\n",
    "Random_State=42\n",
    "\n",
    "# Parse command-line arguments\n",
    "def parse_args():\n",
    "    parser = argparse.ArgumentParser()\n",
    "    parser.add_argument(\"--input_data\", type=str, dest=\"input_data\")\n",
    "    parser.add_argument(\"--output_data\", type=str, dest=\"output_data\")\n",
    "    return parser.parse_args()\n",
    "\n",
    "def get_data(input_path):\n",
    "\n",
    "    df= pd.read_csv(input_path)\n",
    "    return df\n",
    "\n",
    "\n",
    "# remove missing values and duplicates\n",
    "def clean_data(df):\n",
    "    df = df.dropna()\n",
    "    df=df.drop_duplicates()\n",
    "    \n",
    "    return df\n",
    "\n",
    "# split data\n",
    "def split_data(df):\n",
    "    X= df[['Pregnancies','PlasmaGlucose','DiastolicBloodPressure','TricepsThickness',\n",
    "    'SerumInsulin','BMI','DiabetesPedigree','Age']].values\n",
    "    y= df['Diabetic'].values\n",
    "    \n",
    "    X_train, X_test, y_train, y_test = train_test_split(X, y, test_size=0.30, stratify=y ,random_state=Random_State)\n",
    "    \n",
    "    return X_train, X_test, y_train, y_test\n",
    "\n",
    "# normalize data\n",
    "def normalize_data(X_train, X_test):\n",
    "    scaler = StandardScaler()\n",
    "    X_train_scaled = scaler.fit_transform(X_train)\n",
    "    X_test_scaled = scaler.transform(X_test)\n",
    "    \n",
    "    return X_train_scaled, X_test_scaled \n",
    "\n",
    "\n",
    "# main function\n",
    "def main(args):\n",
    "   \n",
    "    df = get_data(args.input_data)\n",
    "\n",
    "    cleaned_data = clean_data(df)\n",
    "\n",
    "    X_train, X_test, y_train, y_test=split_data(cleaned_data)\n",
    "\n",
    "    X_train_scaled, X_test_scaled = normalize_data(X_train, X_test)\n",
    "    \n",
    "    # Save outputs as CSV files\n",
    "    output_path = Path(args.output_data)\n",
    "    output_path.mkdir(parents=True, exist_ok=True)\n",
    "\n",
    "    feature_names = ['Pregnancies','PlasmaGlucose','DiastolicBloodPressure',\n",
    "                 'TricepsThickness','SerumInsulin','BMI','DiabetesPedigree','Age']\n",
    "    \n",
    "    train_df = pd.DataFrame(X_train_scaled, columns=feature_names)\n",
    "    train_df[\"Diabetic\"] = y_train\n",
    "    train_df.to_csv(output_path / \"train.csv\", index=False)\n",
    "\n",
    "    test_df = pd.DataFrame(X_test_scaled, columns=feature_names)\n",
    "    test_df[\"Diabetic\"] = y_test\n",
    "    test_df.to_csv(output_path / \"test.csv\", index=False)\n",
    "\n",
    "if __name__ == \"__main__\":\n",
    "    print(\"\\n\" + \"*\" * 60)\n",
    "    args = parse_args()\n",
    "    main(args)\n",
    "    print(\"*\" * 60 + \"\\n\")\n",
    "    \n"
   ]
  },
  {
   "cell_type": "code",
   "execution_count": 7,
   "id": "11065964-c3a3-4392-a7be-bab8794acc53",
   "metadata": {},
   "outputs": [
    {
     "name": "stdout",
     "output_type": "stream",
     "text": [
      "Overwriting src/train-model.py\n"
     ]
    }
   ],
   "source": [
    "%%writefile $script_folder/train-model.py\n",
    "# import libraries\n",
    "import mlflow\n",
    "import argparse\n",
    "from pathlib import Path\n",
    "import pandas as pd\n",
    "import numpy as np\n",
    "from sklearn.linear_model import LogisticRegression\n",
    "from sklearn.ensemble import RandomForestClassifier\n",
    "from xgboost import XGBClassifier\n",
    "\n",
    "\n",
    "\n",
    "Random_State=42\n",
    "def parse_args():\n",
    "    # setup arg parser\n",
    "    parser = argparse.ArgumentParser()\n",
    "\n",
    "    parser.add_argument(\"--training_data\", dest='training_data', type=str) \n",
    "    parser.add_argument(\"--model_output\", dest='model_output', type=str) \n",
    "\n",
    "    args = parser.parse_args()\n",
    "\n",
    "    return args\n",
    "\n",
    "\n",
    "# function that reads the data\n",
    "def load_data(training_data_path):\n",
    "\n",
    "    train_df = pd.read_csv(Path(training_data_path) / \"train.csv\")\n",
    "    \n",
    "    X_train = train_df.drop(\"Diabetic\", axis=1)\n",
    "    y_train = train_df[\"Diabetic\"]\n",
    "\n",
    "\n",
    "    return X_train, y_train\n",
    "\n",
    "\n",
    "\n",
    "def train_LR(X_train, y_train,output_path ):\n",
    "    with mlflow.start_run(nested=True):\n",
    "        mlflow.log_param(\"model_type\", \"Logistic Regression\")\n",
    "        print(\"Training model...\")\n",
    "        model= LogisticRegression(C=(1/0.01), solver=\"liblinear\").fit(X_train, y_train)\n",
    "        mlflow.sklearn.save_model(model, output_path / \"logistic_regression\")\n",
    "\n",
    "    return model\n",
    "\n",
    "def train_RF(X_train, y_train,output_path ):\n",
    "    with mlflow.start_run(nested=True):\n",
    "        mlflow.log_param(\"model_type\", \"Random Forest\")\n",
    "        print(\"Training model...\")\n",
    "        model=RandomForestClassifier(max_depth= 8, min_samples_split= 2, n_estimators= 500 , random_state = Random_State).fit(X_train, y_train)\n",
    "        mlflow.sklearn.save_model(model, output_path / \"random_forest\")\n",
    "        \n",
    "    return model\n",
    "\n",
    "\n",
    "def train_XG(X_train, y_train,output_path ):\n",
    "    with mlflow.start_run(nested=True):\n",
    "        mlflow.log_param(\"model_type\", \"XGBoost\")\n",
    "        print(\"Training model...\")\n",
    "        model=XGBClassifier(learning_rate= 0.01, max_depth= 2, n_estimators=500 , random_state = Random_State).fit(X_train, y_train)\n",
    "        mlflow.sklearn.save_model(model, output_path / \"xgboost\")\n",
    "        \n",
    "    return model\n",
    "\n",
    "\n",
    "\n",
    "\n",
    "def main(args):\n",
    "    \n",
    "    # read data\n",
    "    X_train, y_train = load_data(args.training_data)\n",
    "    # path\n",
    "    output_path = Path(args.model_output)\n",
    "    output_path.mkdir(parents=True, exist_ok=True)\n",
    "    \n",
    "    # train model\n",
    "    with mlflow.start_run(): #parent run\n",
    "        train_LR(X_train, y_train, output_path)\n",
    "        train_RF(X_train, y_train, output_path)\n",
    "        train_XG(X_train, y_train, output_path)\n",
    "       \n",
    "\n",
    "    \n",
    "\n",
    "    \n",
    "if __name__ == \"__main__\":\n",
    "    print(\"\\n\" + \"*\" * 60)\n",
    "    args = parse_args()\n",
    "    main(args)\n",
    "    print(\"*\" * 60 + \"\\n\")\n"
   ]
  },
  {
   "cell_type": "code",
   "execution_count": 9,
   "id": "15423fe4-22ff-44f6-8f9d-f94c547c9e69",
   "metadata": {},
   "outputs": [
    {
     "name": "stdout",
     "output_type": "stream",
     "text": [
      "Overwriting src/evaluation-model.py\n"
     ]
    }
   ],
   "source": [
    "%%writefile $script_folder/evaluation-model.py\n",
    "\n",
    "# import libraries\n",
    "import mlflow\n",
    "import argparse\n",
    "import pandas as pd\n",
    "import numpy as np\n",
    "from pathlib import Path\n",
    "from sklearn.metrics import roc_auc_score\n",
    "from sklearn.metrics import roc_curve\n",
    "import matplotlib.pyplot as plt\n",
    "\n",
    "\n",
    "def parse_args():\n",
    "    parser = argparse.ArgumentParser()\n",
    "    parser.add_argument(\"--test_data\", type=str, dest=\"test_data\")\n",
    "    parser.add_argument(\"--model_path\", type=str, dest=\"model_path\")\n",
    "    return parser.parse_args()\n",
    "\n",
    "# function that reads the data\n",
    "def load_data(test_data_path):\n",
    "\n",
    "    test_df = pd.read_csv(Path(test_data_path) / \"test.csv\")\n",
    "\n",
    "    X_test = test_df.drop(\"Diabetic\", axis=1)\n",
    "    y_test = test_df[\"Diabetic\"]\n",
    "\n",
    "    return X_test, y_test\n",
    "\n",
    "\n",
    "\n",
    "def eval_model(model, X_test, y_test):\n",
    "\n",
    "    model_name = type(model).__name__\n",
    "\n",
    "    \n",
    "    # calculate accuracy\n",
    "    y_hat = model.predict(X_test)\n",
    "    acc = np.mean(y_hat == y_test)\n",
    "    print(f\"[{model_name}] Accuracy: {acc:.4f}\")\n",
    "    mlflow.log_metric(\"accuracy\", acc)\n",
    "    \n",
    "    # calculate AUC\n",
    "    y_scores = model.predict_proba(X_test)\n",
    "    auc = roc_auc_score(y_test,y_scores[:,1])\n",
    "    print(f\"[{model_name}] AUC: {auc:.4f}\")\n",
    "    mlflow.log_metric(\"auc\", auc)\n",
    "    \n",
    "    # plot ROC curve\n",
    "    fpr, tpr, _ = roc_curve(y_test, y_scores[:,1])\n",
    "    plt.figure(figsize=(6, 4))\n",
    "    # Plot the diagonal 50% line\n",
    "    plt.plot([0, 1], [0, 1], 'k--')\n",
    "    # Plot the FPR and TPR achieved by our model\n",
    "    plt.plot(fpr, tpr,label=f\"AUC = {auc:.2f}\")\n",
    "    plt.xlabel('False Positive Rate')\n",
    "    plt.ylabel('True Positive Rate')\n",
    "    plt.title(f'ROC Curve: {model_name}')\n",
    "    plt.legend()\n",
    "\n",
    "    output_file = f\"ROC-Curve-{model_name}.png\"\n",
    "    plt.savefig(output_file)\n",
    "    mlflow.log_artifact(output_file)\n",
    "\n",
    "def main(args):\n",
    "    # enable autologging\n",
    "    mlflow.autolog(disable=True) \n",
    "    X_test, y_test = load_data(args.test_data)\n",
    "    \n",
    "    for model_dir in Path(args.model_path).iterdir():\n",
    "        if model_dir.is_dir():\n",
    "            print(f\"Evaluating: {model_dir}\")\n",
    "            model = mlflow.sklearn.load_model(str(model_dir))\n",
    "            eval_model(model, X_test, y_test)\n",
    "\n",
    "\n",
    "if __name__ == \"__main__\":\n",
    "    # add space in logs\n",
    "    print(\"\\n\\n\")\n",
    "    print(\"*\" * 60)\n",
    "    \n",
    "    args = parse_args()\n",
    "    main(args)\n",
    "    \n",
    "    print(\"*\" * 60)\n",
    "    print(\"\\n\\n\")"
   ]
  },
  {
   "cell_type": "markdown",
   "id": "c67840c8-61db-4bb0-92fc-917ade60493a",
   "metadata": {},
   "source": [
    "# Define the components"
   ]
  },
  {
   "cell_type": "code",
   "execution_count": 11,
   "id": "cff5e898-da35-4b62-92c1-a660bcb3dbb8",
   "metadata": {},
   "outputs": [
    {
     "name": "stdout",
     "output_type": "stream",
     "text": [
      "Overwriting prep-data.yml\n"
     ]
    }
   ],
   "source": [
    "%%writefile prep-data.yml\n",
    "$schema: https://azuremlschemas.azureedge.net/latest/commandComponent.schema.json\n",
    "name: prep_data\n",
    "display_name: Prepare training data\n",
    "version: 1\n",
    "type: command\n",
    "inputs:\n",
    "  input_data: \n",
    "    type: uri_file\n",
    "outputs:\n",
    "  output_data:\n",
    "    type: uri_folder\n",
    "code: ./src\n",
    "environment: azureml:AzureML-sklearn-0.24-ubuntu18.04-py37-cpu@latest\n",
    "command: >-\n",
    "  python prep-data.py \n",
    "  --input_data ${{inputs.input_data}}\n",
    "  --output_data ${{outputs.output_data}}"
   ]
  },
  {
   "cell_type": "code",
   "execution_count": 13,
   "id": "2422b8f2-792f-4326-bd62-842cc8e4d6bd",
   "metadata": {},
   "outputs": [
    {
     "name": "stdout",
     "output_type": "stream",
     "text": [
      "Overwriting train-model.yml\n"
     ]
    }
   ],
   "source": [
    "%%writefile train-model.yml\n",
    "$schema: https://azuremlschemas.azureedge.net/latest/commandComponent.schema.json\n",
    "name: train_model\n",
    "display_name: Train the logistic regression, random forest, XGBoost models\n",
    "version: 1\n",
    "type: command\n",
    "inputs:\n",
    "  training_data: \n",
    "    type: uri_folder\n",
    "outputs:\n",
    "  model_output:\n",
    "    type: uri_folder\n",
    "code: ./src\n",
    "environment: azureml:AzureML-lightgbm-3.2-ubuntu18.04-py37-cpu@latest\n",
    "command: >-\n",
    "  python train-model.py \n",
    "  --training_data ${{inputs.training_data}} \n",
    "  --model_output ${{outputs.model_output}} "
   ]
  },
  {
   "cell_type": "code",
   "execution_count": 15,
   "id": "b583e237-3cc3-49e3-9840-84cf3b20910f",
   "metadata": {},
   "outputs": [
    {
     "name": "stdout",
     "output_type": "stream",
     "text": [
      "Overwriting evaluation-model.yml\n"
     ]
    }
   ],
   "source": [
    "%%writefile evaluation-model.yml\n",
    "$schema: https://azuremlschemas.azureedge.net/latest/commandComponent.schema.json\n",
    "name: evaluation_model\n",
    "display_name: Evaluate the logistic regression, random forest, and XGBoost models\n",
    "version: 1\n",
    "type: command\n",
    "inputs:\n",
    "  test_data: \n",
    "    type: uri_folder\n",
    "  model_path:\n",
    "    type: uri_folder\n",
    "\n",
    "code: ./src\n",
    "environment: azureml:AzureML-lightgbm-3.2-ubuntu18.04-py37-cpu@latest\n",
    "command: >-\n",
    "  python evaluation-model.py\n",
    "  --test_data ${{inputs.test_data}} \n",
    "  --model_path ${{inputs.model_path}} "
   ]
  },
  {
   "cell_type": "markdown",
   "id": "dfa0cf96-1585-449f-aacf-75a4fb16472e",
   "metadata": {},
   "source": [
    "# Load the component"
   ]
  },
  {
   "cell_type": "code",
   "execution_count": 17,
   "id": "56a37d8f-354c-439b-8a60-bfa00e947862",
   "metadata": {},
   "outputs": [],
   "source": [
    "from azure.ai.ml import load_component\n",
    "parent_dir = \"\"\n",
    "\n",
    "prep_data = load_component(source=parent_dir + \"./prep-data.yml\")\n",
    "train_models = load_component(source=parent_dir + \"./train-model.yml\")\n",
    "eval_models = load_component(source=parent_dir + \"./evaluation-model.yml\")"
   ]
  },
  {
   "cell_type": "markdown",
   "id": "1f575c5b-5d7b-456d-ac61-b3318e6fd1e2",
   "metadata": {},
   "source": [
    "# Build the pipeline"
   ]
  },
  {
   "cell_type": "code",
   "execution_count": 19,
   "id": "37b67c1c-deb3-4289-8566-930729d3707d",
   "metadata": {},
   "outputs": [],
   "source": [
    "\n",
    "from azure.ai.ml import Input\n",
    "from azure.ai.ml.constants import AssetTypes\n",
    "from azure.ai.ml.dsl import pipeline\n",
    "\n",
    "@pipeline()\n",
    "def diabetes_classification(pipeline_job_input):\n",
    "    \n",
    "    clean_split_data = prep_data(input_data=pipeline_job_input)\n",
    "    train_model = train_models(training_data=clean_split_data.outputs.output_data)\n",
    "    eval_model=eval_models(test_data=clean_split_data.outputs.output_data, model_path=train_model.outputs.model_output)\n",
    "\n",
    "    return {\n",
    "        \n",
    "        \"cleaned_data\": clean_split_data.outputs.output_data,\n",
    "        \"trained_model\": train_model.outputs.model_output,\n",
    "        \n",
    "    }\n",
    "\n",
    "pipeline_job = diabetes_classification(Input(type=AssetTypes.URI_FILE , path=\"azureml:diabetes-local:1\"))"
   ]
  },
  {
   "cell_type": "markdown",
   "id": "18a6a78f-0a1e-4df7-953d-6eedc5e661b5",
   "metadata": {},
   "source": [
    "# Submit the pipeline job"
   ]
  },
  {
   "cell_type": "code",
   "execution_count": 21,
   "id": "bde8fafd-ea8c-47c7-8539-526936043008",
   "metadata": {},
   "outputs": [
    {
     "name": "stderr",
     "output_type": "stream",
     "text": [
      "Class AutoDeleteSettingSchema: This is an experimental class, and may change at any time. Please see https://aka.ms/azuremlexperimental for more information.\n",
      "Class AutoDeleteConditionSchema: This is an experimental class, and may change at any time. Please see https://aka.ms/azuremlexperimental for more information.\n",
      "Class BaseAutoDeleteSettingSchema: This is an experimental class, and may change at any time. Please see https://aka.ms/azuremlexperimental for more information.\n",
      "Class IntellectualPropertySchema: This is an experimental class, and may change at any time. Please see https://aka.ms/azuremlexperimental for more information.\n",
      "Class ProtectionLevelSchema: This is an experimental class, and may change at any time. Please see https://aka.ms/azuremlexperimental for more information.\n",
      "Class BaseIntellectualPropertySchema: This is an experimental class, and may change at any time. Please see https://aka.ms/azuremlexperimental for more information.\n",
      "\u001b[32mUploading src (0.01 MBs): 100%|#################################################| 7274/7274 [00:00<00:00, 23349.21it/s]\u001b[0m\n",
      "\u001b[39m\n",
      "\n",
      "pathOnCompute is not a known attribute of class <class 'azure.ai.ml._restclient.v2023_04_01_preview.models._models_py3.UriFolderJobOutput'> and will be ignored\n",
      "pathOnCompute is not a known attribute of class <class 'azure.ai.ml._restclient.v2023_04_01_preview.models._models_py3.UriFolderJobOutput'> and will be ignored\n"
     ]
    },
    {
     "data": {
      "text/html": [
       "<table style=\"width:100%\"><tr><th>Experiment</th><th>Name</th><th>Type</th><th>Status</th><th>Details Page</th></tr><tr><td>pipeline_diabetes</td><td>mighty_bear_3kjxn8zsg3</td><td>pipeline</td><td>NotStarted</td><td><a href=\"https://ml.azure.com/runs/mighty_bear_3kjxn8zsg3?wsid=/subscriptions/78a604aa-17cd-47e5-bc3b-097c9395aa3f/resourcegroups/demo/workspaces/mlw-dp100-labs&amp;tid=2fff08c9-91d4-4fc8-bbdd-dd59b7414ddb\" target=\"_blank\" rel=\"noopener\">Link to Azure Machine Learning studio</a></td></tr></table>"
      ],
      "text/plain": [
       "PipelineJob({'inputs': {'pipeline_job_input': <azure.ai.ml.entities._job.pipeline._io.base.PipelineInput object at 0x000001DC2F84F9B0>}, 'outputs': {'cleaned_data': <azure.ai.ml.entities._job.pipeline._io.base.PipelineOutput object at 0x000001DC2F84FC50>, 'trained_model': <azure.ai.ml.entities._job.pipeline._io.base.PipelineOutput object at 0x000001DC2F84FBC0>}, 'jobs': {}, 'component': PipelineComponent({'latest_version': None, 'intellectual_property': None, 'auto_increment_version': False, 'source': 'REMOTE.WORKSPACE.JOB', 'is_anonymous': True, 'auto_delete_setting': None, 'name': 'azureml_anonymous', 'description': None, 'tags': {}, 'properties': {}, 'print_as_yaml': False, 'id': None, 'Resource__source_path': None, 'base_path': 'C:\\\\Users\\\\bahar', 'creation_context': None, 'serialize': <msrest.serialization.Serializer object at 0x000001DC2F84FE00>, 'version': '1', 'schema': None, 'type': 'pipeline', 'display_name': 'diabetes_classification', 'is_deterministic': None, 'inputs': {'pipeline_job_input': {}}, 'outputs': {'cleaned_data': {}, 'trained_model': {}}, 'yaml_str': None, 'other_parameter': {}, 'jobs': {'clean_split_data': Command({'parameters': {}, 'init': False, 'name': 'clean_split_data', 'type': 'command', 'status': None, 'log_files': None, 'description': None, 'tags': {}, 'properties': {}, 'print_as_yaml': False, 'id': None, 'Resource__source_path': '', 'base_path': 'C:\\\\Users\\\\bahar', 'creation_context': None, 'serialize': <msrest.serialization.Serializer object at 0x000001DC2F223A10>, 'allowed_keys': {}, 'key_restriction': False, 'logger': <Logger attr_dict (WARNING)>, 'display_name': None, 'experiment_name': None, 'compute': None, 'services': None, 'comment': None, 'job_inputs': {'input_data': '${{parent.inputs.pipeline_job_input}}'}, 'job_outputs': {'output_data': '${{parent.outputs.cleaned_data}}'}, 'inputs': {'input_data': <azure.ai.ml.entities._job.pipeline._io.base.NodeInput object at 0x000001DC2F222AE0>}, 'outputs': {'output_data': <azure.ai.ml.entities._job.pipeline._io.base.NodeOutput object at 0x000001DC2F7699D0>}, 'component': 'azureml_anonymous:ea93464e-f94b-47ea-85a1-9c5c9d021dba', 'referenced_control_flow_node_instance_id': None, 'kwargs': {'services': None}, 'instance_id': '9d84872f-9b55-4f21-93aa-b2b6f24277c7', 'source': 'YAML.COMPONENT', 'validate_required_input_not_provided': True, 'limits': None, 'identity': None, 'distribution': None, 'environment_variables': {}, 'environment': None, 'resources': None, 'queue_settings': None, 'parent_job_name': None, 'swept': False}), 'train_model': Command({'parameters': {}, 'init': False, 'name': 'train_model', 'type': 'command', 'status': None, 'log_files': None, 'description': None, 'tags': {}, 'properties': {}, 'print_as_yaml': False, 'id': None, 'Resource__source_path': '', 'base_path': 'C:\\\\Users\\\\bahar', 'creation_context': None, 'serialize': <msrest.serialization.Serializer object at 0x000001DC2F769CA0>, 'allowed_keys': {}, 'key_restriction': False, 'logger': <Logger attr_dict (WARNING)>, 'display_name': None, 'experiment_name': None, 'compute': None, 'services': None, 'comment': None, 'job_inputs': {'training_data': '${{parent.jobs.clean_split_data.outputs.output_data}}'}, 'job_outputs': {'model_output': '${{parent.outputs.trained_model}}'}, 'inputs': {'training_data': <azure.ai.ml.entities._job.pipeline._io.base.NodeInput object at 0x000001DC2D0746E0>}, 'outputs': {'model_output': <azure.ai.ml.entities._job.pipeline._io.base.NodeOutput object at 0x000001DC2F768C50>}, 'component': 'azureml_anonymous:12994ea6-a666-4141-bc5c-18237ce8960e', 'referenced_control_flow_node_instance_id': None, 'kwargs': {'services': None}, 'instance_id': '9954938c-67ae-4a48-971d-0f69860b22d4', 'source': 'YAML.COMPONENT', 'validate_required_input_not_provided': True, 'limits': None, 'identity': None, 'distribution': None, 'environment_variables': {}, 'environment': None, 'resources': None, 'queue_settings': None, 'parent_job_name': None, 'swept': False}), 'eval_model': Command({'parameters': {}, 'init': False, 'name': 'eval_model', 'type': 'command', 'status': None, 'log_files': None, 'description': None, 'tags': {}, 'properties': {}, 'print_as_yaml': False, 'id': None, 'Resource__source_path': '', 'base_path': 'C:\\\\Users\\\\bahar', 'creation_context': None, 'serialize': <msrest.serialization.Serializer object at 0x000001DC2F7684A0>, 'allowed_keys': {}, 'key_restriction': False, 'logger': <Logger attr_dict (WARNING)>, 'display_name': None, 'experiment_name': None, 'compute': None, 'services': None, 'comment': None, 'job_inputs': {'test_data': '${{parent.jobs.clean_split_data.outputs.output_data}}', 'model_path': '${{parent.jobs.train_model.outputs.model_output}}'}, 'job_outputs': {}, 'inputs': {'test_data': <azure.ai.ml.entities._job.pipeline._io.base.NodeInput object at 0x000001DC2F768770>, 'model_path': <azure.ai.ml.entities._job.pipeline._io.base.NodeInput object at 0x000001DC2F84FD10>}, 'outputs': {}, 'component': 'azureml_anonymous:d7c1b3eb-8dd8-4901-a6f5-de78d863fa96', 'referenced_control_flow_node_instance_id': None, 'kwargs': {'services': None}, 'instance_id': 'be60685a-285d-44b3-89a9-ac7a966cbfe2', 'source': 'YAML.COMPONENT', 'validate_required_input_not_provided': True, 'limits': None, 'identity': None, 'distribution': None, 'environment_variables': {}, 'environment': None, 'resources': None, 'queue_settings': None, 'parent_job_name': None, 'swept': False})}, 'job_types': {'command': 3}, 'job_sources': {'YAML.COMPONENT': 3}, 'source_job_id': None}), 'type': 'pipeline', 'status': 'NotStarted', 'log_files': None, 'name': 'mighty_bear_3kjxn8zsg3', 'description': None, 'tags': {}, 'properties': {}, 'print_as_yaml': False, 'id': '/subscriptions/78a604aa-17cd-47e5-bc3b-097c9395aa3f/resourceGroups/demo/providers/Microsoft.MachineLearningServices/workspaces/mlw-dp100-labs/jobs/mighty_bear_3kjxn8zsg3', 'Resource__source_path': '', 'base_path': 'C:\\\\Users\\\\bahar', 'creation_context': <azure.ai.ml.entities._system_data.SystemData object at 0x000001DC2F84FEC0>, 'serialize': <msrest.serialization.Serializer object at 0x000001DC2F84FB60>, 'display_name': 'diabetes_classification', 'experiment_name': 'pipeline_diabetes', 'compute': None, 'services': {'Tracking': {'endpoint': 'azureml://canadacentral.api.azureml.ms/mlflow/v1.0/subscriptions/78a604aa-17cd-47e5-bc3b-097c9395aa3f/resourceGroups/demo/providers/Microsoft.MachineLearningServices/workspaces/mlw-dp100-labs?', 'type': 'Tracking'}, 'Studio': {'endpoint': 'https://ml.azure.com/runs/mighty_bear_3kjxn8zsg3?wsid=/subscriptions/78a604aa-17cd-47e5-bc3b-097c9395aa3f/resourcegroups/demo/workspaces/mlw-dp100-labs&tid=2fff08c9-91d4-4fc8-bbdd-dd59b7414ddb', 'type': 'Studio'}}, 'settings': {}, 'identity': None, 'default_code': None, 'default_environment': None})"
      ]
     },
     "execution_count": 21,
     "metadata": {},
     "output_type": "execute_result"
    }
   ],
   "source": [
    "pipeline_job.outputs.cleaned_data.mode = \"upload\"\n",
    "pipeline_job.outputs.trained_model.mode = \"upload\"\n",
    "pipeline_job.settings.default_compute = \"aml-cluster\"\n",
    "pipeline_job.settings.default_datastore = \"workspaceblobstore\"\n",
    "\n",
    "pipeline_job = ml_client.jobs.create_or_update(\n",
    "    pipeline_job, experiment_name=\"pipeline_diabetes\"\n",
    ")\n",
    "pipeline_job"
   ]
  },
  {
   "cell_type": "code",
   "execution_count": null,
   "id": "ebfd3920-8522-49f8-92b0-ef74b87d59e8",
   "metadata": {},
   "outputs": [],
   "source": []
  },
  {
   "cell_type": "code",
   "execution_count": null,
   "id": "65ba4f78-1e2b-4af1-90ec-c3fe071c1fe8",
   "metadata": {},
   "outputs": [],
   "source": []
  }
 ],
 "metadata": {
  "kernelspec": {
   "display_name": "Python [conda env:base] *",
   "language": "python",
   "name": "conda-base-py"
  },
  "language_info": {
   "codemirror_mode": {
    "name": "ipython",
    "version": 3
   },
   "file_extension": ".py",
   "mimetype": "text/x-python",
   "name": "python",
   "nbconvert_exporter": "python",
   "pygments_lexer": "ipython3",
   "version": "3.12.7"
  }
 },
 "nbformat": 4,
 "nbformat_minor": 5
}
